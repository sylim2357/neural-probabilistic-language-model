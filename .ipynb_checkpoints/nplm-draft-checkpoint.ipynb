{
 "cells": [
  {
   "cell_type": "code",
   "execution_count": 178,
   "metadata": {},
   "outputs": [],
   "source": [
    "from torch.utils.data import Dataset, DataLoader\n",
    "from nltk import sent_tokenize\n",
    "import pandas as pd\n",
    "import numpy as np\n",
    "import itertools\n",
    "import easydict\n",
    "import MeCab\n",
    "import torch\n",
    "import json\n",
    "import re"
   ]
  },
  {
   "cell_type": "code",
   "execution_count": 188,
   "metadata": {},
   "outputs": [],
   "source": [
    "FILE_PATH = 'D:\\\\data\\\\text\\\\news-articles\\\\kbanker_articles.csv'\n",
    "CONFIG_PATH = 'config.json'\n",
    "with open(CONFIG_PATH, 'r') as f:\n",
    "    args = easydict.EasyDict(json.load(f))"
   ]
  },
  {
   "cell_type": "code",
   "execution_count": 185,
   "metadata": {},
   "outputs": [],
   "source": [
    "#pre-processing shit\n",
    "def pre_process_raw_article(article):\n",
    "    \"\"\"Args\n",
    "        article: str\n",
    "    \"\"\"\n",
    "    replacements = [\n",
    "        ('[“”]', '\"'),\n",
    "        ('[‘’]', '\\''),\n",
    "        ('\\([^)]*\\)', ''),\n",
    "        ('[^가-힣\\'\"A-Za-z0-9.\\s\\?\\!]', ' '),\n",
    "        ('(?=[^0-9])\\.(?=[^0-9])', '. '),\n",
    "        ('\\s\\s+', ' ')\n",
    "    ]\n",
    "    \n",
    "    for old, new in replacements:\n",
    "        article = re.sub(old, new, article)\n",
    "        \n",
    "    return article\n",
    "\n",
    "def mecab_tokenize(sentence):\n",
    "    t = MeCab.Tagger()\n",
    "    return [re.split(',', re.sub('\\t', ',', s))[0] for s in t.parse(sentence).split('\\n') if (s!='') & ('EOS' not in s)]"
   ]
  },
  {
   "cell_type": "code",
   "execution_count": 207,
   "metadata": {},
   "outputs": [],
   "source": [
    "class NLPCorpusDataset(Dataset):\n",
    "    \"\"\"NLP Corpus dataset.\"\"\"\n",
    "\n",
    "    def __init__(self, csv_file, root_dir):\n",
    "        \"\"\"\n",
    "        Args:\n",
    "            csv_file (string): Path to the csv file with annotations.\n",
    "            root_dir (string): Directory with all the images.\n",
    "            transform (callable, optional): Optional transform to be applied\n",
    "                on a sample.\n",
    "        \"\"\"\n",
    "        articles = pd.read_csv(csv_file, encoding='utf-8')['article'].dropna().values\n",
    "        articles = [pre_process_raw_article(article) for article in articles]\n",
    "        sentences = itertools.chain.from_iterable([sent_tokenize(article) for article in articles])\n",
    "        self.corpus = [mecab_tokenize(s) for s in list(sentences)]\n",
    "        self.root_dir = root_dir\n",
    "        del articles\n",
    "        del sentences\n",
    "        \n",
    "        #construct word matrix\n",
    "        word_set = set(itertools.chain.from_iterable(self.corpus))\n",
    "        self.word_to_idx = {word : idx for idx, word in enumerate(word_set)}\n",
    "        self.idx_to_word = {self.word_to_idx[word] : word for word in self.word_to_idx}\n",
    "        del word_set\n",
    "        \n",
    "        #make train label dataset\n",
    "        self.x = []\n",
    "        self.y = []\n",
    "        for sentence in self.corpus:\n",
    "            for i in range(len(sentence) - args.window_size):\n",
    "                self.x.append(sentence[i:i+args.window_size])\n",
    "                self.y.append([sentence[i+args.window_size]])\n",
    "\n",
    "    def __len__(self):\n",
    "        return len(self.corpus)\n",
    "\n",
    "    def __getitem__(self, idx):\n",
    "        if torch.is_tensor(idx):\n",
    "            idx = idx.tolist()\n",
    "        \n",
    "        return self.x[idx], self.y[idx]"
   ]
  },
  {
   "cell_type": "code",
   "execution_count": 208,
   "metadata": {
    "scrolled": true
   },
   "outputs": [],
   "source": [
    "nlp_dataset = NLPCorpusDataset(csv_file=FILE_PATH, root_dir='.')"
   ]
  },
  {
   "cell_type": "code",
   "execution_count": 238,
   "metadata": {},
   "outputs": [],
   "source": [
    "def collate_fn(data):\n",
    "    return zip(*data)\n",
    "\n",
    "dataloader = DataLoader(nlp_dataset, batch_size=2, shuffle=False, num_workers=0, collate_fn=collate_fn)"
   ]
  },
  {
   "cell_type": "code",
   "execution_count": 239,
   "metadata": {
    "scrolled": true
   },
   "outputs": [
    {
     "name": "stdout",
     "output_type": "stream",
     "text": [
      "[(['본점', '필수', '인력', '연수원', '에'], ['분산']), (['필수', '인력', '연수원', '에', '분산'], ['근무'])]\n"
     ]
    }
   ],
   "source": [
    "for i, sample in enumerate(dataloader):\n",
    "    if i == 0:\n",
    "        a = sample\n",
    "        break"
   ]
  },
  {
   "cell_type": "code",
   "execution_count": null,
   "metadata": {},
   "outputs": [],
   "source": []
  }
 ],
 "metadata": {
  "kernelspec": {
   "display_name": "Python [conda env:nlp-embedding]",
   "language": "python",
   "name": "conda-env-nlp-embedding-py"
  },
  "language_info": {
   "codemirror_mode": {
    "name": "ipython",
    "version": 3
   },
   "file_extension": ".py",
   "mimetype": "text/x-python",
   "name": "python",
   "nbconvert_exporter": "python",
   "pygments_lexer": "ipython3",
   "version": "3.6.10"
  }
 },
 "nbformat": 4,
 "nbformat_minor": 2
}
