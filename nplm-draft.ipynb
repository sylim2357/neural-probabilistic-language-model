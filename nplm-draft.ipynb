{
 "cells": [
  {
   "cell_type": "code",
   "execution_count": 69,
   "metadata": {},
   "outputs": [],
   "source": [
    "from nltk import sent_tokenize\n",
    "from konlpy.tag import Kkma\n",
    "import pandas as pd\n",
    "import numpy as np\n",
    "import MeCab\n",
    "import torch\n",
    "import re"
   ]
  },
  {
   "cell_type": "code",
   "execution_count": 55,
   "metadata": {},
   "outputs": [],
   "source": [
    "FILE_PATH = 'D:\\\\data\\\\text\\\\news-articles\\\\kbanker_articles.csv'\n",
    "df = pd.read_csv(FILE_PATH, encoding='utf-8')"
   ]
  },
  {
   "cell_type": "code",
   "execution_count": null,
   "metadata": {},
   "outputs": [],
   "source": [
    "class NLPCorpusDataset(Dataset):\n",
    "    \"\"\"NLP Corpus dataset.\"\"\"\n",
    "\n",
    "    def __init__(self, csv_file, root_dir, transform=None):\n",
    "        \"\"\"\n",
    "        Args:\n",
    "            csv_file (string): Path to the csv file with annotations.\n",
    "            root_dir (string): Directory with all the images.\n",
    "            transform (callable, optional): Optional transform to be applied\n",
    "                on a sample.\n",
    "        \"\"\"\n",
    "        self.corpus_df = pd.read_csv(csv_file, encoding='utf-8')\n",
    "        self.root_dir = root_dir\n",
    "\n",
    "    def __len__(self):\n",
    "        return len(self.corpus_df)\n",
    "\n",
    "    def __getitem__(self, idx):\n",
    "        if torch.is_tensor(idx):\n",
    "            idx = idx.tolist()\n",
    "            \n",
    "        ready_to_be_sent_tokenized = re.sub('[“”]', '\"', re.sub('\\s\\s+', ' ', re.sub('(?=[^0-9])\\.(?=[^0-9])', '. ', self.corpus_df.loc[idx, 'article'])))\n",
    "        \n",
    "        t = MeCab.Tagger()\n",
    "        s = t.parse(self.corpus_df.loc[idx])\n",
    "        [re.split(',', re.sub('\\t', ',', s))[0] for s in s.split('\\n') if (s!='') & ('EOS' not in s)]\n",
    "        sample = {'image': image, 'landmarks': landmarks}\n",
    "        return sample"
   ]
  },
  {
   "cell_type": "code",
   "execution_count": null,
   "metadata": {},
   "outputs": [],
   "source": [
    "dataloader = DataLoader(transformed_dataset, batch_size=4, shuffle=True, num_workers=4)"
   ]
  }
 ],
 "metadata": {
  "kernelspec": {
   "display_name": "Python [conda env:nlp-embedding]",
   "language": "python",
   "name": "conda-env-nlp-embedding-py"
  },
  "language_info": {
   "codemirror_mode": {
    "name": "ipython",
    "version": 3
   },
   "file_extension": ".py",
   "mimetype": "text/x-python",
   "name": "python",
   "nbconvert_exporter": "python",
   "pygments_lexer": "ipython3",
   "version": "3.6.10"
  }
 },
 "nbformat": 4,
 "nbformat_minor": 2
}
